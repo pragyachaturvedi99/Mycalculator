{
  "nbformat": 4,
  "nbformat_minor": 0,
  "metadata": {
    "colab": {
      "name": "Calculator_trial2.ipynb",
      "provenance": []
    },
    "kernelspec": {
      "name": "python3",
      "display_name": "Python 3"
    },
    "language_info": {
      "name": "python"
    }
  },
  "cells": [
    {
      "cell_type": "code",
      "execution_count": 10,
      "metadata": {
        "id": "Ow9YLWe5NH0M"
      },
      "outputs": [],
      "source": [
        "from calculator import calculator"
      ]
    },
    {
      "cell_type": "code",
      "source": [
        "c=calculator()"
      ],
      "metadata": {
        "colab": {
          "base_uri": "https://localhost:8080/"
        },
        "id": "diotbqZbOrFB",
        "outputId": "9bb52a2c-a3d2-4ccc-c3f5-d7db7700da2a"
      },
      "execution_count": 11,
      "outputs": [
        {
          "output_type": "stream",
          "name": "stdout",
          "text": [
            "**Welcome To Calculator**\n",
            "Calculator.add(a, b)\t\t- takes 2 args, a and b, and adds them\n",
            "Calculator.subtract(a, b)\t- takes 2 args, a and b, and subtracts them\n",
            "Calculator.multiply(a, b) \t- takes 2 args, a and b, and multiplies them\n",
            "Calculator.divide(a, b)\t\t- takes 2 args, a and b, and divides them\n",
            "Calculator.history()\t\t- display the calculator usage history\n",
            "\n"
          ]
        }
      ]
    },
    {
      "cell_type": "code",
      "source": [
        "c.add(4,5)"
      ],
      "metadata": {
        "colab": {
          "base_uri": "https://localhost:8080/"
        },
        "id": "KCd4xDMaPDV7",
        "outputId": "423a7ed8-9f7e-441c-f41f-eb0150119cb7"
      },
      "execution_count": 12,
      "outputs": [
        {
          "output_type": "execute_result",
          "data": {
            "text/plain": [
              "9"
            ]
          },
          "metadata": {},
          "execution_count": 12
        }
      ]
    },
    {
      "cell_type": "code",
      "source": [
        "c.subtract(30,10)"
      ],
      "metadata": {
        "colab": {
          "base_uri": "https://localhost:8080/"
        },
        "id": "BQyE2n9LPF44",
        "outputId": "106d0aff-3441-4372-b4b9-2c45bf7550e3"
      },
      "execution_count": 13,
      "outputs": [
        {
          "output_type": "execute_result",
          "data": {
            "text/plain": [
              "20"
            ]
          },
          "metadata": {},
          "execution_count": 13
        }
      ]
    },
    {
      "cell_type": "code",
      "source": [
        "c.history()"
      ],
      "metadata": {
        "colab": {
          "base_uri": "https://localhost:8080/"
        },
        "id": "B_zJQ_2aPIwV",
        "outputId": "57790751-9592-4d60-a7de-ee7f19bfa82f"
      },
      "execution_count": 14,
      "outputs": [
        {
          "output_type": "stream",
          "name": "stdout",
          "text": [
            "- time : 1.3000000000040757e-05| action : add  4,5|result : 9\n",
            "- time : 7.000000000090267e-06| action : subtract  30,10|result : 20\n",
            "\n"
          ]
        }
      ]
    },
    {
      "cell_type": "code",
      "source": [
        "c.multiply(12,7)"
      ],
      "metadata": {
        "colab": {
          "base_uri": "https://localhost:8080/"
        },
        "id": "yzZYoaL4PLN-",
        "outputId": "7c24957d-d8c9-4a17-95ee-044bf3f4d36e"
      },
      "execution_count": 15,
      "outputs": [
        {
          "output_type": "execute_result",
          "data": {
            "text/plain": [
              "84"
            ]
          },
          "metadata": {},
          "execution_count": 15
        }
      ]
    },
    {
      "cell_type": "code",
      "source": [
        "c.divide(720,20)"
      ],
      "metadata": {
        "colab": {
          "base_uri": "https://localhost:8080/"
        },
        "id": "MSABqxADPOwr",
        "outputId": "bf610180-e98b-4fec-ce98-23ec8a227c21"
      },
      "execution_count": 16,
      "outputs": [
        {
          "output_type": "execute_result",
          "data": {
            "text/plain": [
              "36.0"
            ]
          },
          "metadata": {},
          "execution_count": 16
        }
      ]
    },
    {
      "cell_type": "code",
      "source": [
        "c.history()"
      ],
      "metadata": {
        "colab": {
          "base_uri": "https://localhost:8080/"
        },
        "id": "g3Qchw88PVIi",
        "outputId": "2561a7a3-71de-4df7-f118-d8505a34359d"
      },
      "execution_count": 17,
      "outputs": [
        {
          "output_type": "stream",
          "name": "stdout",
          "text": [
            "- time : 1.3000000000040757e-05| action : add  4,5|result : 9\n",
            "- time : 7.000000000090267e-06| action : subtract  30,10|result : 20\n",
            "- time : 1.09999999997612e-05| action : multiply  12,7|result : 84\n",
            "- time : 8.999999999925734e-06| action : divide  720,20|result : 36.0\n",
            "\n"
          ]
        }
      ]
    }
  ]
}