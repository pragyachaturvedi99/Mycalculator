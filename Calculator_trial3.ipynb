{
  "nbformat": 4,
  "nbformat_minor": 0,
  "metadata": {
    "colab": {
      "name": "Calculator_trial3.ipynb",
      "provenance": []
    },
    "kernelspec": {
      "name": "python3",
      "display_name": "Python 3"
    },
    "language_info": {
      "name": "python"
    }
  },
  "cells": [
    {
      "cell_type": "code",
      "execution_count": 1,
      "metadata": {
        "colab": {
          "base_uri": "https://localhost:8080/"
        },
        "id": "oDVYIkMFSBdo",
        "outputId": "d563c7e6-82f3-47ec-bac4-474ede48f4bc"
      },
      "outputs": [
        {
          "output_type": "stream",
          "name": "stdout",
          "text": [
            "Cloning into 'Mycalculator'...\n",
            "remote: Enumerating objects: 24, done.\u001b[K\n",
            "remote: Counting objects: 100% (24/24), done.\u001b[K\n",
            "remote: Compressing objects: 100% (22/22), done.\u001b[K\n",
            "remote: Total 24 (delta 6), reused 0 (delta 0), pack-reused 0\u001b[K\n",
            "Unpacking objects: 100% (24/24), done.\n"
          ]
        }
      ],
      "source": [
        "! git clone \"https://github.com/pragyachaturvedi99/Mycalculator\""
      ]
    },
    {
      "cell_type": "code",
      "source": [
        "cd /content/Mycalculator/"
      ],
      "metadata": {
        "colab": {
          "base_uri": "https://localhost:8080/"
        },
        "id": "3LoxNsw_STpY",
        "outputId": "cfe99b67-78e3-41cb-d6a6-2546a784e8f7"
      },
      "execution_count": 7,
      "outputs": [
        {
          "output_type": "stream",
          "name": "stdout",
          "text": [
            "/content/Mycalculator\n"
          ]
        }
      ]
    },
    {
      "cell_type": "code",
      "source": [
        "from calculator import calculator"
      ],
      "metadata": {
        "id": "6T2zBuEwSKra"
      },
      "execution_count": 8,
      "outputs": []
    },
    {
      "cell_type": "code",
      "source": [
        "c=calculator()"
      ],
      "metadata": {
        "colab": {
          "base_uri": "https://localhost:8080/"
        },
        "id": "DtTkbNRhSi_m",
        "outputId": "3ec45332-aa5b-4719-ceb3-a1eefd33c17f"
      },
      "execution_count": 9,
      "outputs": [
        {
          "output_type": "stream",
          "name": "stdout",
          "text": [
            "**Welcome To Calculator**\n",
            "Calculator.add(a, b)\t\t- takes 2 args, a and b, and adds them\n",
            "Calculator.subtract(a, b)\t- takes 2 args, a and b, and subtracts them\n",
            "Calculator.multiply(a, b) \t- takes 2 args, a and b, and multiplies them\n",
            "Calculator.divide(a, b)\t\t- takes 2 args, a and b, and divides them\n",
            "Calculator.history()\t\t- display the calculator usage history\n",
            "\n"
          ]
        }
      ]
    },
    {
      "cell_type": "code",
      "source": [
        "c.add(5,4)"
      ],
      "metadata": {
        "colab": {
          "base_uri": "https://localhost:8080/"
        },
        "id": "yW2moj75SmB1",
        "outputId": "1273630f-e632-4d34-e3e0-7551349b6eba"
      },
      "execution_count": 10,
      "outputs": [
        {
          "output_type": "execute_result",
          "data": {
            "text/plain": [
              "9"
            ]
          },
          "metadata": {},
          "execution_count": 10
        }
      ]
    },
    {
      "cell_type": "code",
      "source": [
        "c.multiply(7,9)"
      ],
      "metadata": {
        "colab": {
          "base_uri": "https://localhost:8080/"
        },
        "id": "fKCQMgGlSp0c",
        "outputId": "a2aa6715-b4ac-41c1-8917-224b871848c7"
      },
      "execution_count": 11,
      "outputs": [
        {
          "output_type": "execute_result",
          "data": {
            "text/plain": [
              "63"
            ]
          },
          "metadata": {},
          "execution_count": 11
        }
      ]
    },
    {
      "cell_type": "code",
      "source": [
        "c.history()"
      ],
      "metadata": {
        "colab": {
          "base_uri": "https://localhost:8080/"
        },
        "id": "FR5rrPeCStMy",
        "outputId": "56ecdb49-fe38-48b3-91f9-97ac1e2be93c"
      },
      "execution_count": 12,
      "outputs": [
        {
          "output_type": "stream",
          "name": "stdout",
          "text": [
            "- time : 8.999999999925734e-06| action : add  5,4|result : 9\n",
            "- time : 8.999999999925734e-06| action : multiply  7,9|result : 63\n",
            "\n"
          ]
        }
      ]
    },
    {
      "cell_type": "code",
      "source": [
        "c.subtract(19,2)"
      ],
      "metadata": {
        "colab": {
          "base_uri": "https://localhost:8080/"
        },
        "id": "zDtDUIr6SvoI",
        "outputId": "004fe345-944b-4ce6-96e9-a4a06caef298"
      },
      "execution_count": 13,
      "outputs": [
        {
          "output_type": "execute_result",
          "data": {
            "text/plain": [
              "17"
            ]
          },
          "metadata": {},
          "execution_count": 13
        }
      ]
    },
    {
      "cell_type": "code",
      "source": [
        "c.divide(210,7)"
      ],
      "metadata": {
        "colab": {
          "base_uri": "https://localhost:8080/"
        },
        "id": "W9qtMWepSzNW",
        "outputId": "1fb8349b-942e-4508-a366-9a6599c25c41"
      },
      "execution_count": 14,
      "outputs": [
        {
          "output_type": "execute_result",
          "data": {
            "text/plain": [
              "30.0"
            ]
          },
          "metadata": {},
          "execution_count": 14
        }
      ]
    },
    {
      "cell_type": "code",
      "source": [
        "c.history()"
      ],
      "metadata": {
        "colab": {
          "base_uri": "https://localhost:8080/"
        },
        "id": "4gKazxWrS3ro",
        "outputId": "0a69d8fc-a145-4b70-bab5-c012f94630af"
      },
      "execution_count": 15,
      "outputs": [
        {
          "output_type": "stream",
          "name": "stdout",
          "text": [
            "- time : 8.999999999925734e-06| action : add  5,4|result : 9\n",
            "- time : 8.999999999925734e-06| action : multiply  7,9|result : 63\n",
            "- time : 5.999999999950489e-06| action : subtract  19,2|result : 17\n",
            "- time : 9.999999999621423e-06| action : divide  210,7|result : 30.0\n",
            "\n"
          ]
        }
      ]
    }
  ]
}