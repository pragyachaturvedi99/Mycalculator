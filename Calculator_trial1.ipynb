{
  "nbformat": 4,
  "nbformat_minor": 0,
  "metadata": {
    "colab": {
      "name": "Calculator_trial1.ipynb",
      "provenance": []
    },
    "kernelspec": {
      "name": "python3",
      "display_name": "Python 3"
    },
    "language_info": {
      "name": "python"
    }
  },
  "cells": [
    {
      "cell_type": "code",
      "execution_count": 99,
      "metadata": {
        "id": "66B_AuMf6TmB"
      },
      "outputs": [],
      "source": [
        "import time\n",
        "class calculator():\n",
        "    def __init__(self):\n",
        "      f = open('/content/Calculator_constrcutor.txt', 'r')\n",
        "      content = f.read()\n",
        "      print(content)\n",
        "      f.close()\n",
        "      history=open('/content/history.txt','w')\n",
        "      history.write(\"\")\n",
        "      \n",
        "    def add(self,a,b):\n",
        "      start=time.clock()\n",
        "      result=a+b\n",
        "      end=time.clock()\n",
        "      t=repr(end - start)\n",
        "      a=repr(a)\n",
        "      b=repr(b)\n",
        "      r=repr(result)\n",
        "      history=open('/content/history.txt','a')\n",
        "      str=\"- time : \"+t+\"| action : add  \"+a+\",\"+b+\"|result : \"+r+\"\\n\"\n",
        "      history.write(str)\n",
        "      return result\n",
        "    def multiply(self,a,b):\n",
        "      start=time.clock()\n",
        "      result=a*b\n",
        "      end=time.clock()\n",
        "      t=repr(end - start)\n",
        "      a=repr(a)\n",
        "      b=repr(b)\n",
        "      r=repr(result)\n",
        "      history=open('/content/history.txt','a')\n",
        "      str=\"- time : \"+t+\"| action : multiply  \"+a+\",\"+b+\"|result : \"+r+\"\\n\"\n",
        "      history=open('/content/history.txt','a')\n",
        "      history.write(str)\n",
        "      return result\n",
        "    def divide(self,a,b):\n",
        "      start=time.clock()\n",
        "      result=a/b\n",
        "      end=time.clock()\n",
        "      t=repr(end - start)\n",
        "      a=repr(a)\n",
        "      b=repr(b)\n",
        "      r=repr(result)\n",
        "      str=\"- time : \"+t+\"| action : divide  \"+a+\",\"+b+\"|result : \"+r+\"\\n\"\n",
        "      history=open('/content/history.txt','a')\n",
        "      history.write(str)\n",
        "      return result\n",
        "    def subtract(self,a,b):\n",
        "      start=time.clock()\n",
        "      result=a-b\n",
        "      end=time.clock()\n",
        "      t=repr(end - start)\n",
        "      a=repr(a)\n",
        "      b=repr(b)\n",
        "      r=repr(result)\n",
        "      str=\"- time : \"+t+\"| action : subtract  \"+a+\",\"+b+\"|result : \"+r+\"\\n\"\n",
        "      history=open('/content/history.txt','a')\n",
        "      history.write(str)\n",
        "      return result\n",
        "    def history(self):\n",
        "      history = open('/content/history.txt', 'r')\n",
        "      content = history.read()\n",
        "      print(content)\n",
        "      history.close()"
      ]
    },
    {
      "cell_type": "code",
      "source": [
        "c.add(5,4)"
      ],
      "metadata": {
        "colab": {
          "base_uri": "https://localhost:8080/"
        },
        "id": "52dk2b4ZyfOD",
        "outputId": "9aaf5ac0-2643-4c80-e0fa-c909e84d13b8"
      },
      "execution_count": 100,
      "outputs": [
        {
          "output_type": "stream",
          "name": "stderr",
          "text": [
            "/usr/local/lib/python3.7/dist-packages/ipykernel_launcher.py:12: DeprecationWarning: time.clock has been deprecated in Python 3.3 and will be removed from Python 3.8: use time.perf_counter or time.process_time instead\n",
            "  if sys.path[0] == '':\n",
            "/usr/local/lib/python3.7/dist-packages/ipykernel_launcher.py:14: DeprecationWarning: time.clock has been deprecated in Python 3.3 and will be removed from Python 3.8: use time.perf_counter or time.process_time instead\n",
            "  \n"
          ]
        },
        {
          "output_type": "execute_result",
          "data": {
            "text/plain": [
              "9"
            ]
          },
          "metadata": {},
          "execution_count": 100
        }
      ]
    },
    {
      "cell_type": "code",
      "source": [
        "c.multiply(5,4)"
      ],
      "metadata": {
        "colab": {
          "base_uri": "https://localhost:8080/"
        },
        "id": "Oxg1bm15Fjep",
        "outputId": "1758965e-94ec-4c24-c0e3-e07b10f45f65"
      },
      "execution_count": 101,
      "outputs": [
        {
          "output_type": "stream",
          "name": "stderr",
          "text": [
            "/usr/local/lib/python3.7/dist-packages/ipykernel_launcher.py:24: DeprecationWarning: time.clock has been deprecated in Python 3.3 and will be removed from Python 3.8: use time.perf_counter or time.process_time instead\n",
            "/usr/local/lib/python3.7/dist-packages/ipykernel_launcher.py:26: DeprecationWarning: time.clock has been deprecated in Python 3.3 and will be removed from Python 3.8: use time.perf_counter or time.process_time instead\n"
          ]
        },
        {
          "output_type": "execute_result",
          "data": {
            "text/plain": [
              "20"
            ]
          },
          "metadata": {},
          "execution_count": 101
        }
      ]
    },
    {
      "cell_type": "code",
      "source": [
        "c.divide(45,5)"
      ],
      "metadata": {
        "colab": {
          "base_uri": "https://localhost:8080/"
        },
        "id": "Wl23T7MOFmec",
        "outputId": "47c323b9-3d3e-413e-ca2b-e09dbaf76480"
      },
      "execution_count": 102,
      "outputs": [
        {
          "output_type": "stream",
          "name": "stderr",
          "text": [
            "/usr/local/lib/python3.7/dist-packages/ipykernel_launcher.py:37: DeprecationWarning: time.clock has been deprecated in Python 3.3 and will be removed from Python 3.8: use time.perf_counter or time.process_time instead\n",
            "/usr/local/lib/python3.7/dist-packages/ipykernel_launcher.py:39: DeprecationWarning: time.clock has been deprecated in Python 3.3 and will be removed from Python 3.8: use time.perf_counter or time.process_time instead\n"
          ]
        },
        {
          "output_type": "execute_result",
          "data": {
            "text/plain": [
              "9.0"
            ]
          },
          "metadata": {},
          "execution_count": 102
        }
      ]
    },
    {
      "cell_type": "code",
      "source": [
        "c.subtract(15,5)"
      ],
      "metadata": {
        "colab": {
          "base_uri": "https://localhost:8080/"
        },
        "id": "y93BZs4tFqci",
        "outputId": "5cc6fa14-3b9f-4038-c901-c0292495f162"
      },
      "execution_count": 103,
      "outputs": [
        {
          "output_type": "stream",
          "name": "stderr",
          "text": [
            "/usr/local/lib/python3.7/dist-packages/ipykernel_launcher.py:49: DeprecationWarning: time.clock has been deprecated in Python 3.3 and will be removed from Python 3.8: use time.perf_counter or time.process_time instead\n",
            "/usr/local/lib/python3.7/dist-packages/ipykernel_launcher.py:51: DeprecationWarning: time.clock has been deprecated in Python 3.3 and will be removed from Python 3.8: use time.perf_counter or time.process_time instead\n"
          ]
        },
        {
          "output_type": "execute_result",
          "data": {
            "text/plain": [
              "10"
            ]
          },
          "metadata": {},
          "execution_count": 103
        }
      ]
    },
    {
      "cell_type": "code",
      "source": [
        "c.history()"
      ],
      "metadata": {
        "colab": {
          "base_uri": "https://localhost:8080/"
        },
        "id": "I8VBhJPk-BTk",
        "outputId": "f6bbb422-b1bb-4c6d-dfe1-247ebb2b4d83"
      },
      "execution_count": 104,
      "outputs": [
        {
          "output_type": "stream",
          "name": "stdout",
          "text": [
            "- time : 0.00028700000000014825| action : add  5,4|result : 9\n",
            "- time : 0.0002579999999987592| action : multiply  5,4|result : 20\n",
            "- time : 0.00025100000000222167| action : divide  45,5|result : 9.0\n",
            "- time : 0.0002400000000015723| action : subtract  15,5|result : 10\n",
            "\n"
          ]
        }
      ]
    },
    {
      "cell_type": "code",
      "source": [
        ""
      ],
      "metadata": {
        "id": "RRz6DXWfFhso"
      },
      "execution_count": 104,
      "outputs": []
    }
  ]
}